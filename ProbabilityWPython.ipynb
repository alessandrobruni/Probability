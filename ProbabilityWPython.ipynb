{
 "cells": [
  {
   "cell_type": "code",
   "execution_count": 1,
   "id": "4dae6fbf",
   "metadata": {
    "pycharm": {
     "name": "#%%\n"
    }
   },
   "outputs": [],
   "source": [
    "import numpy as np\n",
    "import random\n",
    "import matplotlib.pyplot as plt\n",
    "import seaborn as sns"
   ]
  },
  {
   "cell_type": "markdown",
   "id": "be6d9f2a",
   "metadata": {
    "pycharm": {
     "name": "#%% md\n"
    }
   },
   "source": [
    "### Binomial Distribution Assumptions \n",
    "\n",
    "1. Only 2 types of results \n",
    "2. Events are independent\n",
    "3. Each event has the same probability to occur for each run\n",
    "\n"
   ]
  },
  {
   "cell_type": "markdown",
   "id": "edd77191",
   "metadata": {
    "pycharm": {
     "name": "#%% md\n"
    }
   },
   "source": [
    "# Examples for assumptions:\n",
    "\n",
    "## Only 2 types of results & Events are independent\n",
    "\n",
    "* Coins - head or tails (can there be both heads and tails?)\n",
    "* e-Commerce - client bought or didn't buy (can you buy and not buy?)\n",
    "* Behavioural - Click or no click\n",
    "* Cyber Security - Fradulant or benign\n",
    "* Marketing - Click on ad or don't\n",
    "* Finance - Stock will go up or down\n"
   ]
  },
  {
   "cell_type": "markdown",
   "id": "c30cbda0",
   "metadata": {
    "pycharm": {
     "name": "#%% md\n"
    }
   },
   "source": [
    "## Each event has the same probability to occur for each run - \n",
    "\n",
    "### A Google Interview question\n",
    "* I've thrown a fair coin 4 times, and the results are H,H,H,H - What is the probability for a Tail?\n",
    " * that the next throw will be T?\n",
    " * What is the probability of getting 4 Hs and 1T?\n",
    "\n",
    "$ p = 0.5*0.5*0.5*0.5*0.5 $ \n",
    "\n",
    "\n",
    "$ 100/(2**5)$\n"
   ]
  },
  {
   "cell_type": "markdown",
   "id": "a136f9f6",
   "metadata": {
    "pycharm": {
     "name": "#%% md\n"
    }
   },
   "source": [
    "## np.random.binomial  \n",
    "\n",
    "binomial(n, p, size=None)\n",
    "\n",
    "Draw samples from a binomial distribution.\n",
    "\n",
    "Samples are drawn from a binomial distribution with specified\n",
    "parameters, n trials and p probability of success where\n",
    "n an integer >= 0 and p is in the interval [0,1]. (n may be\n",
    "input as a float, but it is truncated to an integer in use)\n",
    "\n",
    ".. note::\n",
    "    New code should use the ``binomial`` method of a ``default_rng()``\n",
    "    instance instead; please see the :ref:`random-quick-start`.\n",
    "\n",
    "**Parameters**\n",
    "\n",
    "n : int or array_like of ints\n",
    "    Parameter of the distribution, >= 0. Floats are also accepted,\n",
    "    but they will be truncated to integers.\n",
    "p : float or array_like of floats\n",
    "    Parameter of the distribution, >= 0 and <=1.\n",
    "size : int or tuple of ints, optional\n",
    "    Output shape.  If the given shape is, e.g., ``(m, n, k)``, then\n",
    "    ``m * n * k`` samples are drawn.  If size is ``None`` (default),\n",
    "    a single value is returned if ``n`` and ``p`` are both scalars.\n",
    "    Otherwise, ``np.broadcast(n, p).size`` samples are drawn.\n",
    "\n"
   ]
  },
  {
   "cell_type": "code",
   "execution_count": 26,
   "id": "41aad436",
   "metadata": {
    "pycharm": {
     "name": "#%%\n"
    }
   },
   "outputs": [
    {
     "name": "stdout",
     "output_type": "stream",
     "text": [
      "1\n",
      "0\n",
      "0\n",
      "1\n"
     ]
    }
   ],
   "source": [
    "# Let's toss a fair coin 4 times\n",
    "\n",
    "print(np.random.binomial(1, 0.5))\n",
    "print(np.random.binomial(1, 0.5))\n",
    "print(np.random.binomial(1, 0.5))\n",
    "print(np.random.binomial(1, 0.5))\n"
   ]
  },
  {
   "cell_type": "code",
   "execution_count": 28,
   "id": "9989d697",
   "metadata": {
    "pycharm": {
     "name": "#%%\n"
    }
   },
   "outputs": [
    {
     "name": "stdout",
     "output_type": "stream",
     "text": [
      "[0 1 0 0]\n"
     ]
    }
   ],
   "source": [
    "# Let's toss a fair coin 4 times\n",
    "print(np.random.binomial(1, 0.5,4))\n"
   ]
  },
  {
   "cell_type": "code",
   "execution_count": 60,
   "id": "74588fbc",
   "metadata": {
    "pycharm": {
     "name": "#%%\n"
    }
   },
   "outputs": [],
   "source": [
    "# The probability of a client buying a product is 5%, and we have 1000 customers\n",
    "\n",
    "# create a list/array of buyers/not buyers using a for loop\n",
    "\n",
    "buyers = []\n",
    "for i in range(1000):\n",
    "    buyers.append(np.random.binomial(1, 0.05))\n"
   ]
  },
  {
   "cell_type": "code",
   "execution_count": 101,
   "id": "a5b3579c",
   "metadata": {
    "pycharm": {
     "name": "#%%\n"
    }
   },
   "outputs": [
    {
     "data": {
      "text/plain": [
       "array([0, 0, 0, 0, 0, 0, 0, 0, 0, 0, 1, 0, 0, 0, 0, 0, 0, 0, 0, 0, 0, 0,\n",
       "       0, 0, 0, 0, 0, 0, 0, 0, 0, 0, 0, 1, 0, 0, 0, 0, 0, 0, 0, 0, 0, 0,\n",
       "       0, 0, 0, 0, 0, 0, 0, 0, 0, 0, 0, 0, 0, 0, 0, 0, 0, 0, 0, 0, 0, 0,\n",
       "       0, 0, 1, 0, 0, 0, 0, 1, 0, 0, 0, 0, 0, 0, 0, 0, 0, 0, 0, 0, 0, 0,\n",
       "       0, 0, 0, 0, 0, 0, 1, 0, 0, 1, 0, 0])"
      ]
     },
     "execution_count": 101,
     "metadata": {},
     "output_type": "execute_result"
    }
   ],
   "source": [
    "# create a list/array of buyers/not buyers without using a for loop\n",
    "\n",
    "np.random.binomial(1, 0.05, 100)"
   ]
  },
  {
   "cell_type": "code",
   "execution_count": 45,
   "id": "3cb70493",
   "metadata": {
    "pycharm": {
     "name": "#%%\n"
    }
   },
   "outputs": [
    {
     "name": "stdout",
     "output_type": "stream",
     "text": [
      "0.2\n",
      "0.1\n",
      "0.05\n",
      "0.0518\n"
     ]
    }
   ],
   "source": [
    "# What is the mean of the group?\n",
    "\n",
    "print(sum(np.random.binomial(1, 0.05, 5))/5)\n",
    "print(sum(np.random.binomial(1, 0.05, 50))/50)\n",
    "print(sum(np.random.binomial(1, 0.05, 500))/500)\n",
    "print(sum(np.random.binomial(1, 0.05, 5000))/5000)"
   ]
  },
  {
   "cell_type": "code",
   "execution_count": 62,
   "id": "dbfa9996",
   "metadata": {
    "pycharm": {
     "name": "#%%\n"
    }
   },
   "outputs": [
    {
     "name": "stdout",
     "output_type": "stream",
     "text": [
      "The mean for the binomial distribution with p=0.05 and group size=1 is 0.0\n",
      "The mean for the binomial distribution with p=0.05 and group size=201 is 0.055\n",
      "The mean for the binomial distribution with p=0.05 and group size=401 is 0.057\n",
      "The mean for the binomial distribution with p=0.05 and group size=601 is 0.042\n",
      "The mean for the binomial distribution with p=0.05 and group size=801 is 0.059\n"
     ]
    }
   ],
   "source": [
    "# Move to a for loop\n",
    "\n",
    "for group_size in range(1,1000, 200):\n",
    "    mean = sum(np.random.binomial(1, 0.05, group_size))/group_size\n",
    "    print(f\"The mean for the binomial distribution with p=0.05 and group size={group_size} is {mean:.2}\")"
   ]
  },
  {
   "cell_type": "markdown",
   "id": "72cf968a",
   "metadata": {
    "pycharm": {
     "name": "#%% md\n"
    }
   },
   "source": [
    "### Talk about how it's hard understanding the actual trend - and suggest plotting"
   ]
  },
  {
   "cell_type": "code",
   "execution_count": 53,
   "id": "c2b9bfd1",
   "metadata": {
    "pycharm": {
     "name": "#%%\n"
    }
   },
   "outputs": [],
   "source": [
    "# Tuple unpacking\n",
    "xs, ys = [], []\n",
    " \n",
    "for group_size in range(1,100000, 100):\n",
    "    mean = sum(np.random.binomial(1, 0.05, group_size))/group_size\n",
    "    xs.append(group_size)\n",
    "    ys.append(mean)\n"
   ]
  },
  {
   "cell_type": "code",
   "execution_count": 51,
   "id": "14ad945f",
   "metadata": {
    "pycharm": {
     "name": "#%%\n"
    }
   },
   "outputs": [
    {
     "data": {
      "text/plain": [
       "[<matplotlib.lines.Line2D at 0x25733571460>]"
      ]
     },
     "execution_count": 51,
     "metadata": {},
     "output_type": "execute_result"
    },
    {
     "data": {
      "image/png": "[encoded data removed]",
      "text/plain": [
       "<Figure size 432x288 with 1 Axes>"
      ]
     },
     "metadata": {
      "needs_background": "light"
     },
     "output_type": "display_data"
    }
   ],
   "source": [
    "# The average of the group diverges into the probability of success\n",
    "plt.plot(xs, ys)"
   ]
  },
  {
   "cell_type": "markdown",
   "id": "ee2a35d0",
   "metadata": {
    "pycharm": {
     "name": "#%% md\n"
    }
   },
   "source": [
    "# Practice!\n",
    "\n",
    "\n",
    "#### Talk about this usecase:\n",
    "* I have a button on site\n",
    "* The probability that the client will click on it is 3% (because it's located in an inaccisble location)\n",
    "* If in a specific day I have 1000 users - how many of them would click the button?"
   ]
  },
  {
   "cell_type": "code",
   "execution_count": 189,
   "id": "773ed997",
   "metadata": {
    "pycharm": {
     "name": "#%%\n"
    }
   },
   "outputs": [
    {
     "name": "stdout",
     "output_type": "stream",
     "text": [
      "[22]\n",
      "25\n"
     ]
    }
   ],
   "source": [
    "trials = 1000\n",
    "prob = 0.03\n",
    "size_ = 1\n",
    "\n",
    "successes = np.random.binomial(n=trials, p = prob, size=size_)\n",
    "\n",
    "#Switch between n and size - see the difference\n",
    "successes_ = np.random.binomial(n=size_, p = prob, size=trials)\n",
    "\n",
    "# Run this several times - show that the number changes - Let's talk about how this number changes\n",
    "print(successes)\n",
    "print(sum(successes_))"
   ]
  },
  {
   "cell_type": "code",
   "execution_count": 99,
   "id": "dc63d8d5",
   "metadata": {
    "pycharm": {
     "name": "#%%\n"
    }
   },
   "outputs": [
    {
     "data": {
      "text/plain": [
       "(array([2., 0., 1., 2., 1., 1., 0., 1., 0., 2.]),\n",
       " array([25. , 26.6, 28.2, 29.8, 31.4, 33. , 34.6, 36.2, 37.8, 39.4, 41. ]),\n",
       " <BarContainer object of 10 artists>)"
      ]
     },
     "execution_count": 99,
     "metadata": {},
     "output_type": "execute_result"
    },
    {
     "data": {
      "image/png": "[encoded data removed]",
      "text/plain": [
       "<Figure size 432x288 with 1 Axes>"
      ]
     },
     "metadata": {
      "needs_background": "light"
     },
     "output_type": "display_data"
    }
   ],
   "source": [
    "collector = []\n",
    "\n",
    "for i in range(10):\n",
    "    successes = np.random.binomial(n=trials, p = prob, size=size_)[0]\n",
    "    collector.append(successes)\n",
    "\n",
    "    \n",
    "# plt.hist(collector) without a semicolon is cluttered\n",
    "plt.hist(collector)"
   ]
  },
  {
   "cell_type": "code",
   "execution_count": 96,
   "id": "9c922f58",
   "metadata": {
    "pycharm": {
     "name": "#%%\n"
    }
   },
   "outputs": [
    {
     "data": {
      "image/png": "[encoded data removed]",
      "text/plain": [
       "<Figure size 432x288 with 1 Axes>"
      ]
     },
     "metadata": {
      "needs_background": "light"
     },
     "output_type": "display_data"
    }
   ],
   "source": [
    "collector = []\n",
    "\n",
    "for i in range(100):\n",
    "    successes = np.random.binomial(n=trials, p = prob, size=size_)[0]\n",
    "    collector.append(successes)\n",
    "    \n",
    "plt.hist(collector);"
   ]
  },
  {
   "cell_type": "code",
   "execution_count": 97,
   "id": "61c1dad3",
   "metadata": {
    "pycharm": {
     "name": "#%%\n"
    }
   },
   "outputs": [
    {
     "data": {
      "image/png": "[encoded data removed]",
      "text/plain": [
       "<Figure size 432x288 with 1 Axes>"
      ]
     },
     "metadata": {
      "needs_background": "light"
     },
     "output_type": "display_data"
    }
   ],
   "source": [
    "collector = []\n",
    "\n",
    "for i in range(1000):\n",
    "    successes = np.random.binomial(n=trials, p = prob, size=size_)[0]\n",
    "    collector.append(successes)\n",
    "    \n",
    "plt.hist(collector);"
   ]
  },
  {
   "cell_type": "code",
   "execution_count": 100,
   "id": "1e70bfd1",
   "metadata": {
    "pycharm": {
     "name": "#%%\n"
    }
   },
   "outputs": [
    {
     "data": {
      "image/png": "[encoded data removed]",
      "text/plain": [
       "<Figure size 432x288 with 1 Axes>"
      ]
     },
     "metadata": {
      "needs_background": "light"
     },
     "output_type": "display_data"
    }
   ],
   "source": [
    "collector = []\n",
    "\n",
    "# note the underscore in the number\n",
    "for i in range(10_000):\n",
    "    successes = np.random.binomial(n=trials, p = prob, size=size_)[0]\n",
    "    collector.append(successes)\n",
    "    \n",
    "plt.hist(collector);"
   ]
  },
  {
   "cell_type": "markdown",
   "id": "062d562b",
   "metadata": {
    "pycharm": {
     "name": "#%% md\n"
    }
   },
   "source": [
    "# Normal distribution is continous - Binomial is discrete\n",
    "\n",
    "The main difference is that normal distribution is continous \n",
    "whereas binomial is discrete, but if there are enough data points it\n",
    " will be quite similar to normal distribution with certain loc and scale.\n",
    "\n"
   ]
  },
  {
   "cell_type": "markdown",
   "id": "2e4e99a9",
   "metadata": {
    "pycharm": {
     "name": "#%% md\n"
    }
   },
   "source": [
    "* I run a stand outside Lazy Dada's show and I sell merch\n",
    "* The probability that the client will buy something on it is 36% \n",
    "* In a specifric show I have 250 groups of 10 people"
   ]
  },
  {
   "cell_type": "code",
   "execution_count": 129,
   "id": "7843b22a",
   "metadata": {
    "pycharm": {
     "name": "#%%\n"
    }
   },
   "outputs": [
    {
     "data": {
      "text/plain": [
       "34"
      ]
     },
     "execution_count": 129,
     "metadata": {},
     "output_type": "execute_result"
    }
   ],
   "source": [
    "sum(np.random.binomial(n=1, p = 0.36, size=100))"
   ]
  },
  {
   "cell_type": "markdown",
   "id": "429610c7",
   "metadata": {
    "pycharm": {
     "name": "#%% md\n"
    }
   },
   "source": [
    "# Let's get back to coins!\n",
    "\n",
    "\n",
    "I have 2 coins, one is fair, the other?\n",
    "Maybe.\n",
    "\n",
    "\n",
    "How can I determine if it's a fair coin?"
   ]
  },
  {
   "cell_type": "markdown",
   "id": "bc2e6b46",
   "metadata": {
    "pycharm": {
     "name": "#%% md\n"
    }
   },
   "source": [
    "* We will conduct a battery of 100 experiemnts\n",
    "* In each experiment we will throw the 2 coins 1000 times\n",
    "* and write down the probability of success \n",
    "* Then - We plot it, and see what we think"
   ]
  },
  {
   "cell_type": "code",
   "execution_count": 168,
   "id": "a5e09457",
   "metadata": {
    "pycharm": {
     "name": "#%%\n"
    }
   },
   "outputs": [
    {
     "data": {
      "text/plain": [
       "<matplotlib.legend.Legend at 0x2573c49eee0>"
      ]
     },
     "execution_count": 168,
     "metadata": {},
     "output_type": "execute_result"
    },
    {
     "data": {
      "image/png": "[encoded data removed]",
      "text/plain": [
       "<Figure size 432x288 with 1 Axes>"
      ]
     },
     "metadata": {
      "needs_background": "light"
     },
     "output_type": "display_data"
    }
   ],
   "source": [
    "fc_collector = []\n",
    "afc_collector = []\n",
    "\n",
    "for i in range(100):\n",
    "    fair_coin = np.random.binomial(n=1, p = 0.5, size=1000)\n",
    "    another_fair_coin = np.random.binomial(n=1, p = 0.5, size=1000)\n",
    "    \n",
    "    fc_collector.append(sum(fair_coin)/len(fair_coin))\n",
    "    afc_collector.append(sum(another_fair_coin)/len(another_fair_coin))\n",
    "\n",
    "    \n",
    "plt.title(\"Are the two coins fair?\")\n",
    "plt.hist(fc_collector, alpha=0.5, label=\"Fair\");\n",
    "plt.hist(afc_collector, alpha=0.5, label=\"Maybe Fair?\");\n",
    "plt.axvline(0.5, lw=3, c='r', ls=\":\")\n",
    "plt.legend()"
   ]
  },
  {
   "cell_type": "code",
   "execution_count": 169,
   "id": "3b6f9f71",
   "metadata": {
    "pycharm": {
     "name": "#%%\n"
    }
   },
   "outputs": [
    {
     "data": {
      "text/plain": [
       "<matplotlib.legend.Legend at 0x2573c52f610>"
      ]
     },
     "execution_count": 169,
     "metadata": {},
     "output_type": "execute_result"
    },
    {
     "data": {
      "image/png": "[encoded data removed]",
      "text/plain": [
       "<Figure size 432x288 with 1 Axes>"
      ]
     },
     "metadata": {
      "needs_background": "light"
     },
     "output_type": "display_data"
    }
   ],
   "source": [
    "fc_collector = []\n",
    "afc_collector = []\n",
    "\n",
    "for i in range(100):\n",
    "    fair_coin = np.random.binomial(n=1, p = 0.5, size=100)\n",
    "    another_fair_coin = np.random.binomial(n=1, p = 0.505, size=100)\n",
    "    \n",
    "    fc_collector.append(sum(fair_coin)/len(fair_coin))\n",
    "    afc_collector.append(sum(another_fair_coin)/len(another_fair_coin))\n",
    "\n",
    "    \n",
    "plt.title(\"Are the two coins fair?\")\n",
    "plt.hist(fc_collector, alpha=0.5, label=\"Fair\");\n",
    "plt.hist(afc_collector, alpha=0.5, label=\"Maybe Fair?\");\n",
    "plt.axvline(0.5, lw=3, c='r', ls=\":\")\n",
    "plt.legend()"
   ]
  },
  {
   "cell_type": "code",
   "execution_count": 170,
   "id": "4a48481b",
   "metadata": {
    "pycharm": {
     "name": "#%%\n"
    }
   },
   "outputs": [
    {
     "data": {
      "text/plain": [
       "<matplotlib.legend.Legend at 0x2573c5c32e0>"
      ]
     },
     "execution_count": 170,
     "metadata": {},
     "output_type": "execute_result"
    },
    {
     "data": {
      "image/png": "[encoded data removed]",
      "text/plain": [
       "<Figure size 432x288 with 1 Axes>"
      ]
     },
     "metadata": {
      "needs_background": "light"
     },
     "output_type": "display_data"
    }
   ],
   "source": [
    "fc_collector = []\n",
    "afc_collector = []\n",
    "\n",
    "for i in range(100):\n",
    "    fair_coin = np.random.binomial(n=1, p = 0.5, size=100)\n",
    "    another_fair_coin = np.random.binomial(n=1, p = 0.7, size=100)\n",
    "    \n",
    "    fc_collector.append(sum(fair_coin)/len(fair_coin))\n",
    "    afc_collector.append(sum(another_fair_coin)/len(another_fair_coin))\n",
    "\n",
    "    \n",
    "plt.title(\"Are the two coins fair?\")\n",
    "plt.hist(fc_collector, alpha=0.5, label=\"Fair\");\n",
    "plt.hist(afc_collector, alpha=0.5, label=\"Maybe Fair?\");\n",
    "plt.axvline(0.5, lw=3, c='r', ls=\":\")\n",
    "plt.legend()"
   ]
  },
  {
   "cell_type": "markdown",
   "id": "1b93a5f9",
   "metadata": {
    "pycharm": {
     "name": "#%% md\n"
    }
   },
   "source": [
    "# How confident are we?"
   ]
  },
  {
   "cell_type": "code",
   "execution_count": 173,
   "id": "dde465bc",
   "metadata": {
    "pycharm": {
     "name": "#%%\n"
    }
   },
   "outputs": [
    {
     "data": {
      "text/plain": [
       "<matplotlib.legend.Legend at 0x2573c718b50>"
      ]
     },
     "execution_count": 173,
     "metadata": {},
     "output_type": "execute_result"
    },
    {
     "data": {
      "image/png": "[encoded data removed]",
      "text/plain": [
       "<Figure size 432x288 with 1 Axes>"
      ]
     },
     "metadata": {
      "needs_background": "light"
     },
     "output_type": "display_data"
    }
   ],
   "source": [
    "fc_collector = []\n",
    "afc_collector = []\n",
    "\n",
    "for i in range(100):\n",
    "    fair_coin = np.random.binomial(n=1, p = 0.5, size=100)\n",
    "    another_fair_coin = np.random.binomial(n=1, p = 0.535, size=100)\n",
    "    \n",
    "    fc_collector.append(sum(fair_coin)/len(fair_coin))\n",
    "    afc_collector.append(sum(another_fair_coin)/len(another_fair_coin))\n",
    "\n",
    "    \n",
    "plt.title(\"Are the two coins fair?\")\n",
    "plt.hist(fc_collector, alpha=0.5, label=\"Fair\");\n",
    "plt.hist(afc_collector, alpha=0.5, label=\"Maybe Fair?\");\n",
    "plt.axvline(0.5, lw=3, c='r', ls=\":\")\n",
    "plt.legend()"
   ]
  },
  {
   "cell_type": "code",
   "execution_count": null,
   "id": "88f85050",
   "metadata": {
    "pycharm": {
     "name": "#%%\n"
    }
   },
   "outputs": [],
   "source": [
    "# Same coins - we toss 10k times in each experiemnt"
   ]
  },
  {
   "cell_type": "code",
   "execution_count": 178,
   "id": "189a66e3",
   "metadata": {
    "pycharm": {
     "name": "#%%\n"
    }
   },
   "outputs": [
    {
     "data": {
      "text/plain": [
       "<matplotlib.legend.Legend at 0x2573c9dad00>"
      ]
     },
     "execution_count": 178,
     "metadata": {},
     "output_type": "execute_result"
    },
    {
     "data": {
      "image/png": "[encoded data removed]",
      "text/plain": [
       "<Figure size 432x288 with 1 Axes>"
      ]
     },
     "metadata": {
      "needs_background": "light"
     },
     "output_type": "display_data"
    }
   ],
   "source": [
    "fc_collector = []\n",
    "afc_collector = []\n",
    "\n",
    "for i in range(100):\n",
    "    fair_coin = np.random.binomial(n=1, p = 0.5, size=10_000)\n",
    "    another_fair_coin = np.random.binomial(n=1, p = 0.535, size=10_000)\n",
    "    \n",
    "    fc_collector.append(sum(fair_coin)/len(fair_coin))\n",
    "    afc_collector.append(sum(another_fair_coin)/len(another_fair_coin))\n",
    "\n",
    "    \n",
    "plt.title(\"Are the two coins fair?\")\n",
    "plt.hist(fc_collector, alpha=0.5, label=\"Fair\");\n",
    "plt.hist(afc_collector, alpha=0.5, label=\"Maybe Fair?\");\n",
    "plt.axvline(0.5, lw=3, c='r', ls=\":\")\n",
    "plt.legend()"
   ]
  },
  {
   "cell_type": "code",
   "execution_count": null,
   "id": "b786ae51",
   "metadata": {
    "pycharm": {
     "name": "#%%\n"
    }
   },
   "outputs": [],
   "source": []
  }
 ],
 "metadata": {
  "kernelspec": {
   "display_name": "Python 3 (ipykernel)",
   "language": "python",
   "name": "python3"
  },
  "language_info": {
   "codemirror_mode": {
    "name": "ipython",
    "version": 3
   },
   "file_extension": ".py",
   "mimetype": "text/x-python",
   "name": "python",
   "nbconvert_exporter": "python",
   "pygments_lexer": "ipython3",
   "version": "3.9.12"
  }
 },
 "nbformat": 4,
 "nbformat_minor": 5
}